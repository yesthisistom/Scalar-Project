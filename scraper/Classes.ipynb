{
 "cells": [
  {
   "cell_type": "markdown",
   "metadata": {},
   "source": [
    "# <center>Classes</center>\n",
    "\n",
    "<hr>"
   ]
  },
  {
   "cell_type": "markdown",
   "metadata": {},
   "source": [
    "## Table of Contents"
   ]
  },
  {
   "cell_type": "markdown",
   "metadata": {},
   "source": [
    "<a id=\"oop\"></a>\n",
    "<hr>\n",
    "# Object Oriented Programming\n",
    "\n",
    "Object oriented programming (OOP) is a term used to refer to an *object* which has the concept of a sense of self.  It has internal attributes, and methods that can return or modify those attributes. \n",
    "\n",
    "For example, an object may be something like a monster in a video game.  It has attributes like health, movement speed, damage per attack. \n",
    "\n",
    "It may have methods associated with it, such as move which it will perform based on its own attributes and maybe some environmental cues.  \n",
    "\n",
    "Most importantly, you can have multiple instances of this monster, each having different current internal values for those attributes.  If you attack one monster but not another, the one you attacked will have lower internal health and may behave differently.  \n",
    "\n",
    "The use here is obvious - you can write code once, but use it over and over again. More importantly, it allows your code to be really clean and readable.  A third maybe less obvious benefit is that it puts all the logic for your object in one place.  If you want to change or improve it later, there's one convenient place to change it. "
   ]
  },
  {
   "cell_type": "markdown",
   "metadata": {},
   "source": [
    "### Classes\n",
    "\n",
    "In python, the Object in OOP is referred to as classes.  Defining a class in python is fairly straightforward, and can be contained either in its own .py file, or in a larger one you're working on. \n",
    "\n",
    "The naming convention as defined by pep-8 is:\n",
    "\n",
    "    Class names should normally use the CapWords convention.\n",
    "\n",
    "    The naming convention for functions may be used instead in cases where the interface is documented and used primarily as a callable."
   ]
  },
  {
   "cell_type": "code",
   "execution_count": 1,
   "metadata": {
    "collapsed": true
   },
   "outputs": [],
   "source": [
    "class Article:\n",
    "    pass"
   ]
  },
  {
   "cell_type": "code",
   "execution_count": 2,
   "metadata": {},
   "outputs": [
    {
     "name": "stdout",
     "output_type": "stream",
     "text": [
      "<class '__main__.Article'>\n"
     ]
    }
   ],
   "source": [
    "article = Article\n",
    "print(article)"
   ]
  },
  {
   "cell_type": "markdown",
   "metadata": {},
   "source": [
    "There are some functions that python will recognize as having a specific use in a class. \n",
    "\n",
    "For instance, a function **__init__** will be treated as a *constructor*, or a function that takes arguments to initialize all the variables used in that instance of the class.  "
   ]
  },
  {
   "cell_type": "code",
   "execution_count": 3,
   "metadata": {
    "collapsed": true
   },
   "outputs": [],
   "source": [
    "class Article:\n",
    "    def __init__(self, article_text):\n",
    "        self._text = article_text\n",
    "        \n",
    "    def get_text(self):\n",
    "        return self._text\n",
    "    "
   ]
  },
  {
   "cell_type": "markdown",
   "metadata": {},
   "source": [
    "We can instantiate a single instance using test we read from an article"
   ]
  },
  {
   "cell_type": "code",
   "execution_count": 44,
   "metadata": {},
   "outputs": [
    {
     "data": {
      "text/plain": [
       "'Consensus wasn\\'t easy in 2017. Maybe that\\'s because the news this year kept us on edge, our eyes and ears pointed in many directions. Maybe it\\'s due to the growth of streaming as the dominant listening platform, one whose rules have not yet fully been written. Whatever the cause, with the exception of our No. 1 album, it felt like there were few pieces of music this year that captured our attention instantly and simultaneously. Instead, we spent our year tracking down new sounds that gave voice to our struggles and breakthroughs, our search for joy and our need for release. When it was time for our staff and member station partners to come together at the year\\'s end, we found there was plenty to celebrate. Here is NPR Music\\'s list of the best albums of 2017.\\n\\nIn tumultuous times, escapism can often feel like the only viable option. Rather than confront what\\'s at hand, we avoid, ignore or retreat. Its slick sound makes much of After Laughter appear to be such a pop circumvention. Even though the majority of its 12 tracks shimmer and sparkle, After Laughter isn\\'t an avoidance of reality; rather, the record finds Hayley Williams, Taylor York and Zac Farro engaging with despair. They\\'re just bathed in neon and glitter and an \\'80s inspired sound. From the skittering Afropop guitar of \"Hard Times\" to the twinkling marimba of \"Pool\" to the shouts on \"Rose-Colored Boy,\" After Laughter leans on its luster while reckoning with reality, retaining the lyrical vulnerability of Paramore\\'s past while refusing to succumb to the gravity of its subject matter. Cast against a technicolor background, Williams is honest about anxiety, imperfection, betrayal and depression. A study in contrasts, After Laughter doesn\\'t run away; after all, its makers know the only way to make it through turmoil is with a little tenacity. —Lyndsey McKenna\\n\\nListen to After Laughter\\n\\nWhen pianist Marc-André Hamelin plays For Bunita Marcus in concert he doesn\\'t really mind if people drift off for a momentary snooze. At 75 minutes and never rising above a whisper, Hamelin says (with a wide smile) Morton Feldman\\'s composition is \"going to be the most aggravating thing you\\'ve ever listened to; either that or the best migraine medicine you\\'ve ever had.\"\\n\\nBefore he died in 1987, Feldman\\'s works expanded and grew quieter. In Hamelin\\'s meticulous performance — allowing single notes to resound in vast, silent spaces — Feldman redefines how music moves through time. Hamelin dares to suggest, in the album\\'s liner notes, that the volume should be turned down when listening to the piece. (Perhaps it\\'s a tip of the hat to one of the composer\\'s oft-quoted lines to musicians who played his music \"too f****** fast and too f****** loud.\") But I disagree. Turn For Bunita Marcus up loud so its strange beauty can totally surround you. —Tom Huizenga\\n\\nListen to an excerpt from For Bunita Marcus\\n\\nAfter a series of fascinating albums exploring his Puerto Rican identity through instrumental music, saxophonist Miguel Zenón looks within on this year\\'s release Típico. But he\\'s not looking within himself; instead he\\'s turning his gaze to the inner workings of his long-time working quartet (Luis Perdomo, piano; Hans Glawischnig, bass; Henry Cole, drums). This album is music made by four separate parts of the same musical mind, so attuned to nuance and emotion that it borders on the voyeuristic — like we shouldn\\'t be privy to such an intimate conversation of appreciation, respect and plain old joy. This is Miguel Zenón\\'s high-water mark with a band that is already one of the best out there. —Felix Contreras\\n\\nListen to Típico\\n\\nA trumpeter with a sure command of her sound, stretching into the realm of extended technique, Jaimie Branch waited a while to make an album under her own name. Fly Or Die was worth the wait, arriving both as a fully formed statement and a bolt out of the blue. Branch\\'s compositions feel like deliberative scraps, in the best way: She knows how to sketch a framework for her partners to fill. And she has excellent taste in collaborators, working mainly with a gang that shares roots in the underground Chicago scene: cellist Tomeka Reid, bassist Jason Ajemian, drummer Chad Taylor. This is music with an avant-garde jazz limbic system, but traits that otherwise reach into new music, post-rock and various other experimental areas. What holds everything together is the immediacy of Branch\\'s playing, and her clarity of purpose. —Nate Chinen (WBGO)\\n\\nListen to Fly or Die\\n\\nA grime album about fatherhood and fame is the sort of conceit that could have gone wrong in any number of ways. Props then to Miles Mitchell, the South London DJ/producer who\\'s spent the last five years moving the music into a softer (yet no less intense) space, for finding an exquisite balance between emotional and visceral. On his sophomore album, Devout, he addresses the birth of his second son, Oscar, and his own reaction to it. It\\'s music full of trepidation and self-doubt, but also joy and quiet excitement, with a diverse array of voices (grime MC P Money, dancehall singer Palmistry, soul vocalist Denai Moore, among others) articulating the moment\\'s confusion when Mitchell\\'s own simply spoken words aren\\'t enough. Devout\\'s true secret weapons, though, are its beatless instrumentals, highly synthetic and deeply melodic miniatures bearing the DNA of software-composed lullabies and Erik Satie\\'s \"Gymnopédies,\" with just enough sub-bass and decontextualized post-rave synths to remind you of their producer\\'s origins. It was some of the most unexpectedly touching and gorgeous music of the year. When he grows up, Oscar best be proud. —Piotr Orlov\\n\\nListen to Devout\\n\\nIt\\'s been nearly 30 years since Malian singer Oumou Sangare released her debut album. And she\\'s always been deliberate as a recording artist: The long-awaited Mogoya is her first album in eight years, and only the fifth studio project in her entire career. On this album, the savvy Sangare has paired up with a team of younger French and Swedish producers to broaden and update her sound while still delivering the socially conscious lyrics that are her passion; here, she addresses topics from suicide to her country\\'s political turmoil to the many African migrants who are struggling — and often dying — on their quests to find safe harbor in Europe. It\\'s a pleasure to hear Sangare back in action. — Anastasia Tsioulcas\\n\\nListen to Mogoya\\n\\nPriests\\' debut album, Nothing Feels Natural, is a set of blisteringly smart rock songs, rooted in the loud guitar fury of punk but borrowing from the band\\'s new-wave, experimental and jazz influences. On its previous EPs and 7-inch singles, the D.C. group has examined how forces like sexism, racism and gentrification impact interpersonal interactions, from the banal to the seismic; on Nothing Feels Natural, these interrogations are given a sharp, introspective edge. \"Why do I always have to be the police to get you to shut up when I speak?\" sings Katie Alice Greer on album closer \"Suck,\" a biting commentary on gender and power cloaked in funk polyrhythms. The album makes a quietly radical statement by showing the political potential of such an inward turn, and does so with song structures and instrumental arrangements that reveal a band stretching its legs without sacrificing its inimitable sense of cohesion. For a year when conversations about power — from the results of electoral politics to the grip of existential dread — seemed unavoidable, Priests provided a blueprint for asking these questions of ourselves and each other. —Marissa Lorusso\\n\\nListen to Nothing Feels Natural\\n\\nWe all knew Danay Suarez was something special — we being the folks who first heard her on those way cool Havana Cultura Sessions albums from a few years back and then on her follow-up, Polvo De La Humedad. Then this gem of an album was released in the spring with so little fanfare that I completely missed the announcement, but by the time I caught up I could hear it was the strongest showcase yet for Suarez\\'s laid-back yet powerful vocal style. Her \"Cubanidad\" is evident on every track, but the glory of this record is how she interprets the island\\'s rich musical heritage with the kind of songwriting and collaborating that expands our idea of Cuban music. —Felix Contreras\\n\\nListen to Palabras Manuales\\n\\nThis is a refreshing and sweet collaboration between the intrepid Kronos Quartet and three master Malian musicians — singer Hawa Diabaté, balafon xylophone player Lassana Diabaté and ngoni lute player Mamadou Kouyaté, exploring repertoire that ranges from gorgeous arrangements of traditional Malian griot praise songs for the seven-piece ensemble to a sublime cover of an American gospel song associated with the legendary Mahalia Jackson: \"God Shall Wipe All Tears Away.\" But along with possessing inherent beauty, Ladilikan holds another meaning as well. At a time when Malian musical traditions cultivated over many centuries — and today\\'s actual musicians themselves — continue to face existential threat by fundamentalist Islamists, this album stands as a proclamation of music\\'s power. —Anastasia Tsioulcas\\n\\nListen to Ladilikan\\n\\nIn 2012, Waxahatchee\\'s Katie Crutchfield made her name with a debut album that contained a nervy mix of lacerating insight and raw, raggedly stripped-down acoustic arrangements. In the five years since, Waxahatchee has polished its sound to a gleaming, electrified shine. But on Out In The Storm, Crutchfield\\'s words still tell bold, hard truths — in this case directed both outward and inward in the aftermath of a hard breakup. Out In The Storm isn\\'t about the raw recriminations of broken love as much as its equally terrifying and promising aftermath. In the effervescent \"Silver,\" that means embracing the risks inherent in re-entering the world: \"I went out in the storm / And I\\'m never returning.\" With the help of a tight backing band — including her sister Allison, a solo force in her own right — Katie Crutchfield has made a career out of embracing and examining change. Out In The Storm is all the richer for her sonic and thematic adventurism. —Stephen Thompson\\n\\nListen to Out in the Storm\\n\\nThink of On The Rocks as a concept album about the life of the faceless bar band, that group hitting its marks in the background of every sawdust-floored bar in real life or road movie where some conflict — dancing or fighting or drunken revelation — plays out in the lights. Midland might not actually be those hard-living, empty-pocketed strummers with a shared dream and the chops to play any room in America if only they can rustle up the gas money, but they wear the part well. Over these 13 songs, the story is basically the same — a little heartbreak, a little too much whiskey, big dreams and small stages — with only the location of the bar and the distance from home changing. It\\'s a potent bartender\\'s dozen based on classically sturdy country tropes, songs for drinking and two-stepping and crying in your beer. The knock on this album is that Midland maybe plays a caricature of a real thing — country androids playing songs that have been written hundreds of times before. Knock all you want. Midland\\'s gonna keep playing the hits until we figure out we should be focused on those guys with all the moves that nobody ever notices. —Jacob Ganz\\n\\nListen to On The Rocks\\n\\nPurgatory, the July release from Tyler Childers, begins and ends with freedom. The redheaded songwriter is a good spokesman for the theme — he\\'s pursued his own course since he began touring as a young man. The record was produced by fellow Kentuckian Sturgill Simpson, who is similarly apart from and a part of the country tradition. Their partnership yielded 10 exceptional Americana songs that are arranged with unfussy precision and the occasional glimmer of Simpson\\'s subversive ear. But the standout here is Childers\\' songwriting. He charts a course on the record from the freedom of abandon (vice-filled country like \"I Swear (To God)\") to the freedom of devotion (whether to music on \"Universal Sound\" or to a lover on the elegant \"Lady May\"). In either case, his voice carries a liberty in the loss of self: \"But up till now, there ain\\'t been nothing / That I couldn\\'t leave behind,\" he sings to a new lover on \"Feathered Indians.\" It\\'s the turning point of the record — an ode to the grounding, orienting freedom of good love. But it\\'s also in part a misstatement. This generously observed record speaks of a songwriter who leaves nothing behind: He carries it with him and gives it away in his songs. —Benjamin Naddaff-Hafrey\\n\\nListen to Purgatory\\n\\nBy sheer magnitude, Migos may have set a new metric for cultural impact in 2017. Never mind the confluence of events that catapulted the suburban Atlanta trap trio (Quavo, Offset and Takeoff) into the pop stratosphere this year — from Donald Glover shouting out the undeniable club anthem \"Bad and Boujee\" at the Golden Globes to Offset popping the question to mutual come-up artist Cardi B in an arena full of 19,000 fans. Having created a sea change stateside with its ubiquitous Migos flow, the trio and its trademark triplets have echoed all the way to Asia and back courtesy of soundalike acts like China\\'s Higher Brothers. But the hype would be all for naught if not for C U L T U R E, the aptly-titled studio album Migos released in January. It turned a group known for infectious singles, bridging hood cred with high fashion, into a platinum-selling album act as popular as it is polarizing. The hypnotic 808s and melodic Auto-Tuned hooks on songs like \"What The Price\" and \"Kelly Price\" might lull you into a safe place. But the percussive punch behind their delivery on songs such as \"T-Shirt\" and \"Deadz\" (feat. 2 Chainz) — with its gothic overture — will remind you why sex, drugs and excess is a universal affair. —Rodney Carmichael\\n\\nListen to C U L T U R E\\n\\nThere are numerous creative and philosophical conversations that composer/singer-songwriter/synthesizer wizard Kaitlyn Aurelia Smith\\'s magnificent album The Kid wanders knowingly into, touching upon spirituality and technology, naturalism and process. It is among the rich comforts of this deeply quirky, regal album of Buddhist ambient-pop songs and post-classical, electronic compositions that its conscientiously designed layers of words and sounds continue to radiate previously unrecognized pleasures many listens in. But though there is not a single mention of current events or the ever-bludgeoning news-cycle among its 13 tracks, to me The Kid\\'s greatest achievement is how the many important (dare I say, timeless) things it subtly references mirrors the chaotic pace of the society it came into — even making some sense and organizing this unbending velocity. This is what makes The Kid both a survival guide and a soundtrack, the pulse steady and measured whether its occasionally tribal drums are welcoming bodies to life, or its array of digitally processed choir of voices is signaling their final exodus. No piece of music I heard in 2017 was as hopeful of a next moment for the planet — an inference that, yes, we will survive this one. —Piotr Orlov\\n\\nListen to The Kid\\n\\nWhile women in music are often whittled down to represent only one image, Rapsody unpacks the intricacies of modern black womanhood on her sophomore album, Laila\\'s Wisdom. The title pays tribute to the rhymer\\'s maternal grandmother and, like the wisdom she passed down, the music speaks to those who fight to be seen as multifaceted. The North Carolina MC puffs her chest on the album\\'s title track, holds her head high on \"Black & Ugly,\" bats her eyelashes during a flirtatious monologue on \"Knock On My Door\" and sheds exasperated tears on \"Jesus Coming.\" The rapper\\'s lispy tone never sounds rushed as she asserts these emotions, and her flow glides naturally over beats which sample Aretha Franklin and Goodie Mob (courtesy of 9th Wonder). Even with features from contemporaries who, by some accounts, are bigger power players in the industry (Kendrick Lamar, Busta Rhymes, Musiq Soulchild), it\\'s obvious with every passing note and rhyme scheme that she reigns supreme over them all. An album propelled by the Roc Nation machine and blessed with finishing touches from her Jamla Records family, Laila\\'s Wisdom is undoubtedly Rapsody\\'s best project to date. —Sidney Madden\\n\\nListen to Laila\\'s Wisdom\\n\\nI\\'ve seen Thundercat\\'s hands effortlessly whiz around his wide 6-string bass neck, a show of incredible technique. But on Drunk, an understated virtuosity prevails, a striking affirmation of artistic maturity and playfulness. The record is a musical manga of 23 exceptional songs, each distinct yet purposefully connected. Its processed bass sounds natural and surprisingly real. In \"Lava Lamp,\" a groovy lyrical hook with — count \\'em — 11 \"oohs\" complements a rich harmony rooted in a driving pulse. Cylindrical arpeggiated chords in \"Friend Zone\" and a mesmerizing 5/4 meter in \"Blackkk\" reveal a musical command few jazz cats can master. Collaborators include Flying Lotus, Kendrick Lamar, Pharrell, Wiz Khalifa, Michael McDonald and Kenny Loggins, but it\\'s the details that stand out. You might recognize the Isley Brothers beat that starts the album\\'s big hit \"Them Changes,\" or linger over the huge, minute-plus fade out on \"Inferno.\" He begins the album in a breathy falsetto, singing the lines, \"Let\\'s go hard, get drunk, and travel down a rabbit hole.\" Thundercat revealed to Red Bull Music Academy his thoughts on the album\\'s drinking theme: \"I felt like it was kind of interweaved in the music culture. And it\\'s something that\\'s never talked about.\" —Suraya Mohamed\\n\\nListen to Drunk\\n\\nJoan Shelley is an album that puts the focus on this elegant Kentucky singer\\'s voice, and that\\'s where it should be. She\\'s been compared to early Sandy Denny and Judy Collins and has a sound that\\'s rich and seductive, dark and warm; it\\'s never obscured here. Jeff Tweedy\\'s simple but sonically full production uses acoustic and electric guitars, bass, minimal keyboards and subtle drums in a delicate reverb that deepens the work and makes it whole. The effect is Siren-like. And her songs, with their traditional echoes, are beautifully brief. You could compare this self-titled album to some atmospheric recordings of Tim Buckley and Fred Neil but with better fidelity. Since Shelley met Tweedy when they were guests on Mountain Stage, we feel a special connection to this beautiful album. It\\'s her fifth release, but the perfect introduction to a talent who looks to be establishing herself for a long run. —Larry Groce (Mountain Stage)\\n\\nListen to Joan Shelley\\n\\nIn this stunning album, a rising star among Estonian composers, Tõnu Kõrvits, transforms the poetry of English novelist Emily Brontë into cinematically vivid postcards for choir and strings from the windswept moors of the 19th century. Like her novel Wuthering Heights, these nine poems are haunted by restless moonlit nights, lost lovers and coiled emotions. Kõrvits\\' musical palette is uncommonly wide, pushing the Grammy-winning Estonian Philharmonic Chamber Choir into luminous murmurs, swooping cries and swirling colors. His nuanced treatment of Tallinn Chamber Orchestra strings amounts to creating an entirely separate dramatic character. And at times it\\'s hard to tell the string choirs from the real choristers. Anyone who thinks choral music is a fusty relic of the church needs to hear this album. —Tom Huizenga\\n\\nListen to Moorland Elegies\\n\\nAlvvays lead singer Molly Rankin relishes the opportunity to create dramatic storylines in her songs. \"It\\'s an escape thing for me,\" she said before a recent show in Portland, Ore. \"If I were to focus on my life it would be boring. There would be a lot of walking through Toronto.\" The Canadian rock band had a breakout song in 2014 with the fist-pumping anthem \"Archie, Marry Me\" — which featured a playful, if unsentimental, Rankin begging for matrimonial commitment behind a wall of distorted guitars. With that in mind, the lyrical content of the band\\'s sophomore record, Antisocialites, is a bit of a shock at first listen. Following what the band terms a \"fantasy breakup arc,\" the new album chronicles the slow and painful death of a relationship through discord, resentment and indifference. There is no \"Archie\" here, but the record is possibly the most complete cover-to-cover listen of 2017, as the band seamlessly switches gears from dreamy pop to jangly rock and back again. So while the lyrics may be chock full of defeat, Antisocialites is anything but a disappointment. —Jerad Walker (OPB)\\n\\nListen to Antisocialites\\n\\nThere\\'s no single word to describe A Crow Looked At Me, an album written and recorded in the aftermath of the death of musician and comic-book artist Geneviève Castrée, the wife of Mount Eerie\\'s principle member Phil Elverum and mother to their child. It just is. You could dissect how Elverum\\'s plainspoken delivery and winding guitar work have almost become indistinguishable, sympathetic instruments carrying each other when one is lost. You could call Elverum brave for baring the extremity of grief in exacting detail, but then he\\'d tell you a joke that you\\'re not so sure you\\'re supposed to laugh at. You could describe the album\\'s sorrow as beautiful, but question your morbid voyeurism and ultimately collapse under Elverum\\'s wail. I haven\\'t listened to A Crow Looked At Me since it was released in March — just revisiting the opening of \"Real Death\" this week wreaked emotional havoc — but I have carried the shattering experience of this record all year. Upon witnessing these songs performed solo in a church sanctuary in September, I realized what a rare gift Elverum has given us in this document of mourning: A Crow Looked At Me breaks you, mends and breaks again, but rebuilds other paths beyond. —Lars Gotrich\\n\\nListen to A Crow Looked at Me\\n\\n  50-31  |  30-11  |  10-1\\xa0\\xa0\\xa0\\xa0     > \\n\\n'"
      ]
     },
     "execution_count": 44,
     "metadata": {},
     "output_type": "execute_result"
    }
   ],
   "source": [
    "article_fn = \"data/articles/568400855.txt\"\n",
    "with open(article_fn) as file_hdl:\n",
    "    text = file_hdl.read()\n",
    "    \n",
    "article = Article(text)\n",
    "article.get_text()"
   ]
  },
  {
   "cell_type": "markdown",
   "metadata": {},
   "source": [
    "We can make this a little bit more rubust using the NLTKProcessing class included in the LanguageProcessing library.  \n",
    "\n",
    "We can also define how the len() function will treat instances of the class.  "
   ]
  },
  {
   "cell_type": "code",
   "execution_count": 38,
   "metadata": {
    "collapsed": true
   },
   "outputs": [],
   "source": [
    "from LanguageProcessing import NLTKProcessing\n",
    "\n",
    "class Article:\n",
    "    def __init__(self, article_text):\n",
    "        self._text = article_text\n",
    "        self._nltk_proc = NLTKProcessing(self._text)\n",
    "        \n",
    "    def __len__(self):\n",
    "        return len(self._text)\n",
    "    \n",
    "    def get_text(self):\n",
    "        return self._text\n",
    "    \n",
    "    def get_most_common(self):\n",
    "        return [word for word,count in self._nltk_proc.get_most_common()]\n",
    "    "
   ]
  },
  {
   "cell_type": "markdown",
   "metadata": {},
   "source": [
    "We can create a list of objects of the type Article using all the articles in our 'data/articles' folder. "
   ]
  },
  {
   "cell_type": "code",
   "execution_count": 45,
   "metadata": {
    "collapsed": true
   },
   "outputs": [],
   "source": [
    "from glob import glob\n",
    "\n",
    "article_files = glob(\"data/articles/*.txt\")\n",
    "\n",
    "articles = []\n",
    "for article_fn in article_files:\n",
    "    with open(article_fn) as file_hdl:\n",
    "        articles.append(Article(file_hdl.read()))"
   ]
  },
  {
   "cell_type": "code",
   "execution_count": 46,
   "metadata": {},
   "outputs": [
    {
     "data": {
      "text/plain": [
       "48"
      ]
     },
     "execution_count": 46,
     "metadata": {},
     "output_type": "execute_result"
    }
   ],
   "source": [
    "len(articles)"
   ]
  },
  {
   "cell_type": "markdown",
   "metadata": {},
   "source": [
    "Now that they're all in memory, we can quickly search for strings like 'Guitar', or 'Boston'. "
   ]
  },
  {
   "cell_type": "code",
   "execution_count": null,
   "metadata": {},
   "outputs": [],
   "source": [
    "search_word = input(\"Search word: \")\n",
    "\n",
    "searched_articles = [article for article in articles if search_word.lower() in article.get_text().lower()]\n",
    "\n",
    "print(len(searched_articles))"
   ]
  },
  {
   "cell_type": "markdown",
   "metadata": {},
   "source": [
    "<hr>\n",
    "# Exercise 1\n",
    "\n",
    "Copy the Article class down here, and modify it to take at construction the article ID, date, title, and URL. \n",
    "\n",
    "Add a 'contains_word' function to the article that checks if word passed in as an argument is in the article at all, and returns true or false. \n",
    "\n",
    "Read the 'article_log.csv', and create a list of Article objects with all of that information populated.\n"
   ]
  },
  {
   "cell_type": "code",
   "execution_count": 41,
   "metadata": {
    "collapsed": true
   },
   "outputs": [],
   "source": [
    "## Your code here"
   ]
  },
  {
   "cell_type": "markdown",
   "metadata": {},
   "source": [
    "## Exercise 2\n",
    "\n",
    "Modify the search above to accept a search term from the user, search each article based on \n",
    "\n",
    "1. The 'get_most_common' functions\n",
    "2. The 'contains_word' function.  \n",
    "    \n",
    "Print the article title and link to the user based on the results. "
   ]
  },
  {
   "cell_type": "markdown",
   "metadata": {},
   "source": [
    "Example output:\n",
    "\n",
    "    Enter a search word: guitar\n",
    "\n",
    "\n",
    "    Best results:\n",
    "\n",
    "    * Review: Willie Nelson, 'God's Problem Child': https://www.npr.org/2017/04/20/524393534/first-listen-willie-nelson-gods-problem-child\n",
    "    -------------------------------------------------- \n",
    "\n",
    "    Contains Search Term:\n",
    "\n",
    "    * The 100 Best Songs Of 2017: https://www.npr.org/2017/12/13/568725030/the-100-best-songs-of-2017\n",
    "    * Israelis, Palestinians Defy Recent Violence To Break Fast Together: https://www.npr.org/2014/07/16/331899948/israelis-palestinians-defy-recent-violence-to-break-fast-together\n",
    "    * The 50 Best Albums Of 2017: https://www.npr.org/2017/12/12/568400855/the-50-best-albums-of-2017"
   ]
  },
  {
   "cell_type": "code",
   "execution_count": 42,
   "metadata": {
    "collapsed": true
   },
   "outputs": [],
   "source": [
    "## Your code here"
   ]
  }
 ],
 "metadata": {
  "kernelspec": {
   "display_name": "Python 3",
   "language": "python",
   "name": "python3"
  },
  "language_info": {
   "codemirror_mode": {
    "name": "ipython",
    "version": 3
   },
   "file_extension": ".py",
   "mimetype": "text/x-python",
   "name": "python",
   "nbconvert_exporter": "python",
   "pygments_lexer": "ipython3",
   "version": "3.6.4"
  }
 },
 "nbformat": 4,
 "nbformat_minor": 2
}
