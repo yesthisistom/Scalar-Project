{
 "cells": [
  {
   "cell_type": "markdown",
   "metadata": {},
   "source": [
    "## SQL Alchemy Class definition"
   ]
  },
  {
   "cell_type": "code",
   "execution_count": null,
   "metadata": {},
   "outputs": [],
   "source": []
  },
  {
   "cell_type": "code",
   "execution_count": null,
   "metadata": {},
   "outputs": [],
   "source": [
    "from sqlalchemy.orm import sessionmaker\n",
    "Session = sessionmaker(bind=engine)\n",
    "session = Session()\n",
    "\n",
    "article = Article(title, article_text, url, most_common)\n",
    "session.add(article)\n",
    "\n",
    "session.commit()"
   ]
  },
  {
   "cell_type": "code",
   "execution_count": null,
   "metadata": {},
   "outputs": [],
   "source": [
    "for instance in session.query(Article).order_by(Article.id):\n",
    "    print(instance.title, instance.url)"
   ]
  },
  {
   "cell_type": "markdown",
   "metadata": {},
   "source": [
    "## Scraper code"
   ]
  },
  {
   "cell_type": "code",
   "execution_count": 1,
   "metadata": {},
   "outputs": [],
   "source": [
    "from libs.article import Article\n",
    "\n",
    "import re\n",
    "import requests\n",
    "\n",
    "from bs4 import BeautifulSoup\n",
    "from sqlalchemy.orm import sessionmaker\n",
    "\n",
    "from libs.sqlcreator import create_alchemy_engine\n",
    "from libs.multi_thread import multi_thread"
   ]
  },
  {
   "cell_type": "code",
   "execution_count": 2,
   "metadata": {},
   "outputs": [],
   "source": [
    "import string\n",
    "\n",
    "from collections import Counter\n",
    "from sklearn.feature_extraction.stop_words import ENGLISH_STOP_WORDS\n",
    "\n",
    "def get_most_common(text):\n",
    "    exclude = set(string.punctuation)\n",
    "    text_nopunct = ''.join(ch for ch in text if ch not in exclude)\n",
    "\n",
    "    words = text_nopunct.lower().split(\" \")\n",
    "    words = [word for word in words if word not in ENGLISH_STOP_WORDS and len(word) > 1]\n",
    "\n",
    "    return [word for word,count in list(Counter(words).most_common(15))]\n",
    "\n",
    "\n",
    "with open(\"npr_article_572945894.txt\") as file_hdl:\n",
    "    article_text = file_hdl.read()\n",
    "    \n",
    "title = article_text.split(\"\\n\")[0]\n",
    "url = \"npr.org/testing\"\n",
    "\n",
    "most_common = get_most_common(article_text)\n"
   ]
  },
  {
   "cell_type": "code",
   "execution_count": 3,
   "metadata": {},
   "outputs": [],
   "source": [
    "def get_text(soup):\n",
    "    text = \"\"\n",
    "    for paragraph in soup.find_all('p'):\n",
    "        if not paragraph.has_attr('class') and not paragraph.findChildren('b'):\n",
    "            text += paragraph.get_text() + \"\\n\\n\"\n",
    "            \n",
    "    return text"
   ]
  },
  {
   "cell_type": "code",
   "execution_count": 4,
   "metadata": {},
   "outputs": [],
   "source": [
    "def get_npr_urls(soup):\n",
    "    \n",
    "    pattern = r'20[\\d]{2}/[\\d]{1,2}/[\\d]{1,2}/[\\d]+/'\n",
    "    \n",
    "    urls = []\n",
    "    for link in soup.find_all('a', href=True):\n",
    "        url = link['href']\n",
    "        if (url.startswith('https://www.npr.org/')):\n",
    "            if re.search(pattern, url):\n",
    "                urls.append(url)\n",
    "        \n",
    "    return urls"
   ]
  },
  {
   "cell_type": "code",
   "execution_count": 5,
   "metadata": {},
   "outputs": [],
   "source": [
    "def get_title(soup):\n",
    "    title = \"\"\n",
    "    #find href with class == title, then get b\n",
    "    for link in soup.find_all('a'):\n",
    "        if link.has_attr('class'):\n",
    "            if link['class'][0] == \"title\":\n",
    "                title = link.findChildren('b')[0].get_text()\n",
    "    \n",
    "    return title"
   ]
  },
  {
   "cell_type": "code",
   "execution_count": 6,
   "metadata": {},
   "outputs": [],
   "source": [
    "def get_details(url):\n",
    "    pattern = r'20[\\d]{2}/[\\d]{1,2}/[\\d]{1,2}/[\\d]+/'\n",
    "    \n",
    "    matchObject = re.search(pattern, url, flags=0)\n",
    "    match_split = matchObject[0].split(\"/\")\n",
    "    date = match_split[0] + \"-\" + match_split[1] + \"-\" + match_split[2]\n",
    "    article_id = match_split[3]\n",
    "    \n",
    "    return date, article_id"
   ]
  },
  {
   "cell_type": "code",
   "execution_count": 7,
   "metadata": {},
   "outputs": [],
   "source": [
    "def scrape_url(url):\n",
    "    soup = BeautifulSoup(requests.get(url).text, 'html.parser')\n",
    "\n",
    "    links = get_npr_urls(soup)\n",
    "\n",
    "    urls = [x for x in get_npr_urls(soup)]\n",
    "\n",
    "    text = get_text(soup)\n",
    "\n",
    "    return_dict = {\"urls\": links}\n",
    "    if len(text) > 100:\n",
    "        title = get_title(soup)\n",
    "        date, article_id = get_details(url)\n",
    "\n",
    "        return_dict[\"article\"] = Article(title, text, url, get_most_common(text), date)\n",
    "        \n",
    "    return return_dict"
   ]
  },
  {
   "cell_type": "code",
   "execution_count": 8,
   "metadata": {},
   "outputs": [
    {
     "data": {
      "text/plain": [
       "<libs.article.Article at 0x5307a90>"
      ]
     },
     "execution_count": 8,
     "metadata": {},
     "output_type": "execute_result"
    }
   ],
   "source": [
    "article_dict = scrape_url(\"https://www.npr.org/2018/05/04/608323118/in-wake-of-school-shooting-trump-pence-to-address-nra\")\n",
    "article_dict[\"article\"]"
   ]
  },
  {
   "cell_type": "code",
   "execution_count": 9,
   "metadata": {},
   "outputs": [],
   "source": [
    "##############\n",
    "## \n",
    "\n",
    "start_url = \"https://www.npr.org/\"\n",
    "traversed_urls = set()\n",
    "\n",
    "to_traverse = set()\n",
    "to_traverse.add(start_url)\n",
    "\n",
    "engine = create_alchemy_engine()\n",
    "\n",
    "\n",
    "Session = sessionmaker(bind=engine)\n",
    "session = Session()\n",
    "\n",
    "count = 0\n",
    "while len(to_traverse) > 0 and count < 1000:\n",
    "\n",
    "    ## Create a list of URLS to traverse\n",
    "    curr_traverse = []\n",
    "    while len(curr_traverse) < 20 and len(to_traverse) > 0:\n",
    "        curr_traverse.append(to_traverse.pop())\n",
    "    \n",
    "    ## TODO: Confirm that the url's have NOT been traversed before (query against DB)\n",
    "    \n",
    "    ## Pass that list to multi-threading\n",
    "    results = multi_thread(scrape_url, curr_traverse, 10)\n",
    "    \n",
    "    ## Multi-threading should return dictionaries mapping to results and to discovered URLs\n",
    "    \n",
    "    \n",
    "    ## Create class for DB that maintains unique set of to_traverse and traverse\n",
    "    for result in results:\n",
    "        result_dict = result[1]\n",
    "        if \"article\" in result_dict:\n",
    "            session.add(result_dict[\"article\"])\n",
    "            count += 1\n",
    "        \n",
    "        to_traverse = to_traverse.union(set(result_dict[\"urls\"]) - traversed_urls)\n",
    "        \n",
    "    session.commit()        \n",
    "    count += 1\n",
    "              "
   ]
  },
  {
   "cell_type": "code",
   "execution_count": 15,
   "metadata": {},
   "outputs": [
    {
     "name": "stdout",
     "output_type": "stream",
     "text": [
      "Three More Women Come Forward To Accuse R. Kelly Of Abuse https://www.npr.org/sections/therecord/2018/05/04/608608800/three-more-women-come-forward-to-accuse-r-kelly-of-abuse\n",
      "Slice Of History: Pieces Of British Royal Wedding Cakes Up For Auction https://www.npr.org/sections/thetwo-way/2018/05/04/608493330/slice-of-history-pieces-of-british-royal-wedding-cakes-up-for-auction\n",
      "NASA Is Heading Back To Mars To Peer Inside The Red Planet https://www.npr.org/sections/thetwo-way/2018/05/04/608448614/nasa-is-heading-back-to-mars-to-peer-inside-the-red-planet\n",
      "Big Jump Seen In Number Of Inmates Prescribed Psychiatric Drugs In California https://www.npr.org/sections/health-shots/2018/05/04/608271211/big-jump-in-number-of-inmates-prescribed-psychiatric-drugs-in-california\n",
      "India Reforms Its Anti-Rape Laws — To Mixed Reaction https://www.npr.org/sections/goatsandsoda/2018/05/04/608516694/india-reforms-its-anti-rape-laws-to-mixed-reaction\n",
      "D.C. Un-United: Amazon's Second HQ Pits City Vs. Its Suburbs https://www.npr.org/2018/05/04/604140045/d-c-un-united-amazons-second-hq-pits-city-vs-its-suburbs\n",
      "Hot, Moist Air From Mediterranean Sparked Freak Storm In India, Meteorologists Say https://www.npr.org/sections/thetwo-way/2018/05/04/608408887/hot-moist-air-from-the-med-sparked-freak-storm-in-india-meteorologists-say\n",
      "As Peking University Marks 120 Years, Student Demands For Transparency Are Quashed https://www.npr.org/sections/parallels/2018/05/04/608106149/as-peking-university-marks-120-years-student-demands-for-transparency-are-quashe\n",
      "Amid Sex-Abuse Scandal, Swedish Academy Won't Award Nobel In Literature This Year https://www.npr.org/sections/thetwo-way/2018/05/04/608411474/amid-sex-abuse-scandal-swedish-academy-wont-award-nobel-in-literature-this-year\n",
      "Missouri Lawmakers Will Hold Special Session To Consider Impeaching Governor https://www.npr.org/sections/thetwo-way/2018/05/04/608420556/missouri-lawmakers-will-hold-special-session-to-consider-impeaching-governor\n"
     ]
    }
   ],
   "source": [
    "from sqlalchemy import desc\n",
    "\n",
    "#for instance in session.query(Article).order_by(desc(Article.date)):\n",
    "#    print(instance.title, instance.url)\n",
    "\n",
    "for instance in session.query(Article).order_by(desc(Article.date)).limit(10).offset(10):\n",
    "    print(instance.title, instance.url)"
   ]
  },
  {
   "cell_type": "code",
   "execution_count": null,
   "metadata": {},
   "outputs": [],
   "source": []
  }
 ],
 "metadata": {
  "kernelspec": {
   "display_name": "Python 3",
   "language": "python",
   "name": "python3"
  },
  "language_info": {
   "codemirror_mode": {
    "name": "ipython",
    "version": 3
   },
   "file_extension": ".py",
   "mimetype": "text/x-python",
   "name": "python",
   "nbconvert_exporter": "python",
   "pygments_lexer": "ipython3",
   "version": "3.6.3"
  }
 },
 "nbformat": 4,
 "nbformat_minor": 2
}
