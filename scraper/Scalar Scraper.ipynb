{
 "cells": [
  {
   "cell_type": "markdown",
   "metadata": {},
   "source": [
    "## SQL Alchemy Class definition"
   ]
  },
  {
   "cell_type": "code",
   "execution_count": 3,
   "metadata": {},
   "outputs": [],
   "source": [
    "from sqlalchemy import Column, Integer, String, TEXT, ARRAY\n",
    "from sqlalchemy.ext.declarative import declarative_base\n",
    "from sqlalchemy import create_engine\n",
    "\n",
    "Base = declarative_base()\n",
    "\n",
    "engine = create_engine('sqlite:///../articles.db')\n",
    "Base.metadata.create_all(engine)\n",
    "\n",
    "class Article(Base):\n",
    "    __tablename__ = 'locations'\n",
    "\n",
    "    id = Column(Integer, primary_key=True)\n",
    "    \n",
    "    title = Column(String(80), nullable=False)\n",
    "    url = Column(String(80), nullable=False)\n",
    "    text = Column(TEXT, nullable=False)\n",
    "    most_common = Column(ARRAY(String), nullable=False)\n",
    "    \n",
    "    def __init__(self, title, text, url, most_common):\n",
    "        self.title = title\n",
    "        self.text = text\n",
    "        self.url = url\n",
    "        self.most_common = most_common\n",
    "        "
   ]
  },
  {
   "cell_type": "markdown",
   "metadata": {},
   "source": [
    "## Scraper code"
   ]
  },
  {
   "cell_type": "code",
   "execution_count": null,
   "metadata": {},
   "outputs": [],
   "source": [
    "def get_text(soup):\n",
    "    text = \"\"\n",
    "    for paragraph in soup.find_all('p'):\n",
    "        if not paragraph.has_attr('class') and not paragraph.findChildren('b'):\n",
    "            text += paragraph.get_text() + \"\\n\\n\"\n",
    "            \n",
    "    return text"
   ]
  },
  {
   "cell_type": "code",
   "execution_count": null,
   "metadata": {},
   "outputs": [],
   "source": [
    "def get_npr_urls(soup):\n",
    "    \n",
    "    pattern = r'20[\\d]{2}/[\\d]{1,2}/[\\d]{1,2}/[\\d]+/'\n",
    "    \n",
    "    urls = []\n",
    "    for link in soup.find_all('a', href=True):\n",
    "        url = link['href']\n",
    "        if (url.startswith('https://www.npr.org/')):\n",
    "            if re.search(pattern, url):\n",
    "                urls.append(url)\n",
    "        \n",
    "    return urls"
   ]
  },
  {
   "cell_type": "code",
   "execution_count": null,
   "metadata": {},
   "outputs": [],
   "source": [
    "def get_title(soup):\n",
    "    title = \"\"\n",
    "    #find href with class == title, then get b\n",
    "    for link in soup.find_all('a'):\n",
    "        if link.has_attr('class'):\n",
    "            if link['class'][0] == \"title\":\n",
    "                title = link.findChildren('b')[0].get_text()\n",
    "    \n",
    "    return title"
   ]
  },
  {
   "cell_type": "code",
   "execution_count": null,
   "metadata": {},
   "outputs": [],
   "source": [
    "def get_details(url):\n",
    "    pattern = r'20[\\d]{2}/[\\d]{1,2}/[\\d]{1,2}/[\\d]+/'\n",
    "    \n",
    "    matchObject = re.search(pattern, url, flags=0)\n",
    "    match_split = matchObject[0].split(\"/\")\n",
    "    date = match_split[0] + \"-\" + match_split[1] + \"-\" + match_split[2]\n",
    "    article_id = match_split[3]\n",
    "    \n",
    "    return date, article_id"
   ]
  },
  {
   "cell_type": "code",
   "execution_count": null,
   "metadata": {},
   "outputs": [],
   "source": []
  },
  {
   "cell_type": "code",
   "execution_count": null,
   "metadata": {},
   "outputs": [],
   "source": [
    "##############\n",
    "## \n",
    "\n",
    "start_url = \"https://www.npr.org/\"\n",
    "traversed_urls = set()\n",
    "\n",
    "to_traverse = set()\n",
    "to_traverse.add(start_url)\n",
    "\n",
    "        \n",
    "while len(to_traverse) > 0 and article_count < max_traverse:\n",
    "\n",
    "    ## Create a list of URLS to traverse\n",
    "    \n",
    "    ## Confirm that the url's have NOT been traversed before (query against DB)\n",
    "    \n",
    "    ## Pass that list to multi-threading\n",
    "    \n",
    "    ## Multi-threading should return dictionaries mapping to results and to discovered URLs\n",
    "    \n",
    "    ## Create class for DB that maintains unique set of to_traverse and traverse\n",
    "    \n",
    "    \n",
    "    \n",
    "    url = to_traverse.pop()\n",
    "    traversed_urls.add(url)\n",
    "\n",
    "    soup = BeautifulSoup(requests.get(url).text, 'html.parser')\n",
    "\n",
    "    links = get_npr_urls(soup)\n",
    "\n",
    "    urls = [x for x in get_npr_urls(soup) if x not in traversed_urls]\n",
    "    to_traverse.update(urls)\n",
    "\n",
    "    text = get_text(soup)\n",
    "\n",
    "    if len(text) > 100:\n",
    "        title = get_title(soup)\n",
    "        date, article_id = get_details(url)\n",
    "\n",
    "        if write:\n",
    "            writer.writerow({\"Link\": url, \"Title\": title, \"Date\": date, \"ID\": article_id})\n",
    "            with open (folder_out + article_id + \".txt\", 'w') as article_hdl:\n",
    "                article_hdl.write(text)\n",
    "\n",
    "\n",
    "    article_count += 1"
   ]
  }
 ],
 "metadata": {
  "kernelspec": {
   "display_name": "Python 3",
   "language": "python",
   "name": "python3"
  },
  "language_info": {
   "codemirror_mode": {
    "name": "ipython",
    "version": 3
   },
   "file_extension": ".py",
   "mimetype": "text/x-python",
   "name": "python",
   "nbconvert_exporter": "python",
   "pygments_lexer": "ipython3",
   "version": "3.6.4"
  }
 },
 "nbformat": 4,
 "nbformat_minor": 2
}
